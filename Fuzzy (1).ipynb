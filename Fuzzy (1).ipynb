{
  "nbformat": 4,
  "nbformat_minor": 0,
  "metadata": {
    "colab": {
      "name": "Fuzzy.ipynb",
      "provenance": [],
      "collapsed_sections": []
    },
    "kernelspec": {
      "name": "python3",
      "display_name": "Python 3"
    },
    "language_info": {
      "name": "python"
    }
  },
  "cells": [
    {
      "cell_type": "code",
      "execution_count": 12,
      "metadata": {
        "colab": {
          "base_uri": "https://localhost:8080/"
        },
        "id": "YQkIyz391mFu",
        "outputId": "2bf4b045-5f63-4390-d93b-e619c8a31006"
      },
      "outputs": [
        {
          "output_type": "stream",
          "name": "stdout",
          "text": [
            "Looking in indexes: https://pypi.org/simple, https://us-python.pkg.dev/colab-wheels/public/simple/\n",
            "Requirement already satisfied: thefuzz in /usr/local/lib/python3.7/dist-packages (0.19.0)\n"
          ]
        }
      ],
      "source": [
        "pip install thefuzz"
      ]
    },
    {
      "cell_type": "code",
      "source": [
        "from thefuzz import fuzz\n",
        "from thefuzz import process"
      ],
      "metadata": {
        "id": "CSUcAFPEfXG9"
      },
      "execution_count": 13,
      "outputs": []
    },
    {
      "cell_type": "code",
      "source": [
        "Str1 = \"Back\"\n",
        "Str2 = \"Book\"\n",
        "Ratio = fuzz.ratio(Str1.lower(),Str2.lower())\n",
        "print(Ratio)"
      ],
      "metadata": {
        "colab": {
          "base_uri": "https://localhost:8080/"
        },
        "id": "XHTov3e2fXQE",
        "outputId": "3b7f1e82-057a-4316-8fc2-61e00f035374"
      },
      "execution_count": 14,
      "outputs": [
        {
          "output_type": "stream",
          "name": "stdout",
          "text": [
            "50\n"
          ]
        }
      ]
    },
    {
      "cell_type": "code",
      "source": [
        "Str1 = \"Hải Dương\" \n",
        "Str2 = \"Nguyễn Hải Dương\" \n",
        "print (fuzz.partial_ratio (Str1.lower (), Str2.lower ()))"
      ],
      "metadata": {
        "colab": {
          "base_uri": "https://localhost:8080/"
        },
        "id": "yGb2qYritciW",
        "outputId": "202857b9-22cd-475a-c0e3-166973d6fa22"
      },
      "execution_count": 15,
      "outputs": [
        {
          "output_type": "stream",
          "name": "stdout",
          "text": [
            "100\n"
          ]
        }
      ]
    },
    {
      "cell_type": "code",
      "source": [
        "Str1 = \"Hải Dương\"\n",
        "Str2 = \"Nguyễn Hải Lương\"\n",
        "print(fuzz.partial_ratio(Str1.lower(),Str2.lower()))"
      ],
      "metadata": {
        "colab": {
          "base_uri": "https://localhost:8080/"
        },
        "id": "vCA3HeQeteSU",
        "outputId": "d166bc4b-55d0-47e9-830d-a0f6f79311ad"
      },
      "execution_count": 16,
      "outputs": [
        {
          "output_type": "stream",
          "name": "stdout",
          "text": [
            "89\n"
          ]
        }
      ]
    },
    {
      "cell_type": "code",
      "source": [
        "Str1 = \"tên tôi là Hải Dương\"\n",
        "Str2 = \"Hải Dương là tên tôi.\"\n",
        "print(fuzz.token_sort_ratio(Str1,Str2))"
      ],
      "metadata": {
        "colab": {
          "base_uri": "https://localhost:8080/"
        },
        "id": "ht0nsyX1w0N9",
        "outputId": "6dd22451-671e-4926-be0b-e81679f787e8"
      },
      "execution_count": 17,
      "outputs": [
        {
          "output_type": "stream",
          "name": "stdout",
          "text": [
            "100\n"
          ]
        }
      ]
    },
    {
      "cell_type": "code",
      "source": [
        "query = 'Tôi là Hải Dương'\n",
        "choices = ['Tên tôi là Hải Dương', 'Tôi là Hải Dưng', 'Hải Dương']  \n",
        "# Get a list of matches ordered by score, default limit to 5\n",
        "process.extract(query, choices)"
      ],
      "metadata": {
        "colab": {
          "base_uri": "https://localhost:8080/"
        },
        "id": "nUqV8Z044XKu",
        "outputId": "cc08fa85-9eec-4177-a30d-6c994fa726ad"
      },
      "execution_count": 18,
      "outputs": [
        {
          "output_type": "execute_result",
          "data": {
            "text/plain": [
              "[('Tôi là Hải Dưng', 96), ('Tên tôi là Hải Dương', 95), ('Hải Dương', 90)]"
            ]
          },
          "metadata": {},
          "execution_count": 18
        }
      ]
    },
    {
      "cell_type": "code",
      "source": [
        "query = 'Tôi là Hải Dương'\n",
        "choices = ['Tên tôi là Hải Dương', 'Tôi là Hải Dưng', 'Hải Dương']  \n",
        "process.extractOne(query, choices)"
      ],
      "metadata": {
        "colab": {
          "base_uri": "https://localhost:8080/"
        },
        "id": "7g76DwuF4bYL",
        "outputId": "db39c560-86d9-432a-919f-01f47a150b0a"
      },
      "execution_count": 19,
      "outputs": [
        {
          "output_type": "execute_result",
          "data": {
            "text/plain": [
              "('Tôi là Hải Dưng', 96)"
            ]
          },
          "metadata": {},
          "execution_count": 19
        }
      ]
    },
    {
      "cell_type": "code",
      "source": [
        "query = 'Toi la Hai Duong2'\n",
        "choices = ['Ten toi la Hai Duong', 'Toi la Hai Dung', 'Hai 22Duong']  \n",
        "# Get a list of matches ordered by score, default limit to 5\n",
        "process.extract(query, choices)"
      ],
      "metadata": {
        "id": "5qpW24RX4bkU",
        "colab": {
          "base_uri": "https://localhost:8080/"
        },
        "outputId": "f7bd892a-4861-4419-f442-c5347fe5446e"
      },
      "execution_count": 26,
      "outputs": [
        {
          "output_type": "execute_result",
          "data": {
            "text/plain": [
              "[('Toi la Hai Dung', 94), ('Ten toi la Hai Duong', 86), ('Hai 22Duong', 86)]"
            ]
          },
          "metadata": {},
          "execution_count": 26
        }
      ]
    }
  ]
}